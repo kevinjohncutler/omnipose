{
 "cells": [
  {
   "cell_type": "code",
   "execution_count": null,
   "id": "0",
   "metadata": {},
   "outputs": [],
   "source": []
  },
  {
   "cell_type": "code",
   "execution_count": null,
   "id": "1",
   "metadata": {
    "editable": true,
    "slideshow": {
     "slide_type": ""
    },
    "tags": [
     "remove-output",
     "remove-cell"
    ]
   },
   "outputs": [],
   "source": [
    "# make local editable packages automatically reload\n",
    "%load_ext autoreload\n",
    "%autoreload 2\n",
    "    "
   ]
  },
  {
   "cell_type": "code",
   "execution_count": null,
   "id": "2",
   "metadata": {},
   "outputs": [],
   "source": [
    "\n",
    "# Import dependencies\n",
    "import numpy as np\n",
    "import omnipose\n",
    "\n",
    "# set up plotting defaults\n",
    "from omnipose.plot import imshow\n",
    "omnipose.plot.setup()\n",
    "\n",
    "# This checks to see if you have set up your GPU properly.\n",
    "# CPU performance is a lot slower, but not a problem if you \n",
    "# are only processing a few images.\n",
    "from omnipose.gpu import use_gpu\n",
    "use_GPU = use_gpu()\n"
   ]
  },
  {
   "cell_type": "code",
   "execution_count": null,
   "id": "3",
   "metadata": {},
   "outputs": [],
   "source": [
    "from pathlib import Path\n",
    "import os, re\n",
    "from cellpose_omni import io\n",
    "from cellpose_omni.io import imread, imwrite\n",
    "\n",
    "omnidir = Path(omnipose.__file__).parent.parent.parent\n",
    "basedir = os.path.join(omnidir,'docs','_static')\n",
    "\n",
    "imgs = imread(os.path.join(basedir, 'long_10_2_phase.tif'))"
   ]
  },
  {
   "cell_type": "code",
   "execution_count": null,
   "id": "4",
   "metadata": {},
   "outputs": [],
   "source": [
    "imshow([imgs[i] for i in range(0,len(imgs),10)])"
   ]
  },
  {
   "cell_type": "code",
   "execution_count": null,
   "id": "5",
   "metadata": {},
   "outputs": [],
   "source": [
    "import cellpose_omni\n",
    "from cellpose_omni import models\n",
    "\n",
    "model = models.CellposeModel(gpu=use_GPU, \n",
    "                             model_type='bact_phase_affinity', \n",
    "                             nclasses=2, nchan=1, \n",
    "                             # nsample=nsample,\n",
    "                             # dilation = dilation\n",
    "                            )\n",
    "chans = None\n"
   ]
  },
  {
   "cell_type": "code",
   "execution_count": null,
   "id": "6",
   "metadata": {},
   "outputs": [],
   "source": [
    "# parallelization using dataloader workflow\n",
    "\n",
    "eval_set = omnipose.data.eval_set(imgs,dim=2, device=model.device, extra_pad = 1,\n",
    "                                  pad_mode='replicate', \n",
    "                                  # replicate is a really important thing to do for fast time lapses, \n",
    "                                  #exponential growth can cause thin features \n",
    "                                 )\n",
    "params = {'channels':chans,\n",
    "          'rescale': 1,\n",
    "          # 'indices':[0],\n",
    "          # 'show_progress': True,\n",
    "          'mask_threshold': -1,\n",
    "          'num_workers':0,\n",
    "          'transparency': True,\n",
    "          'flow_threshold': 0,\n",
    "          'omni': True,\n",
    "          # 'cluster': 1,\n",
    "          'verbose':0,\n",
    "          # 'affinity_seg': 1,\n",
    "          # 'tile': 1,\n",
    "          # 'min_size': 9,\n",
    "          # 'compute_masks':0,\n",
    "          # 'niter': None \n",
    "          # 'niter':10 \n",
    "        }\n",
    "\n",
    "from omnipose.gpu import empty_cache\n",
    "empty_cache()\n",
    "\n",
    "masks, flows, _ = model.eval(eval_set,**params)\n",
    "masks.shape, imgs.shape"
   ]
  },
  {
   "cell_type": "code",
   "execution_count": null,
   "id": "7",
   "metadata": {},
   "outputs": [],
   "source": [
    "# the usual per-image workflow\n",
    "\n",
    "empty_cache()\n",
    "masks, flows, _ = model.eval([i for i in imgs],**params)"
   ]
  },
  {
   "cell_type": "code",
   "execution_count": null,
   "id": "8",
   "metadata": {},
   "outputs": [],
   "source": [
    "len(flows), len(masks)"
   ]
  },
  {
   "cell_type": "code",
   "execution_count": null,
   "id": "9",
   "metadata": {},
   "outputs": [],
   "source": [
    "from cellpose_omni import plot\n",
    "import omnipose\n",
    "\n",
    "n = [0,10,len(imgs)-1]\n",
    "\n",
    "for idx,i in enumerate(n):\n",
    "    print(idx, i)\n",
    "    maski = masks[i] # get masks\n",
    "    bdi = flows[i][-1] # get boundaries\n",
    "    flowi = flows[i][0] # get RGB flows \n",
    "\n",
    "    # set up the output figure to better match the resolution of the images \n",
    "    f = 15\n",
    "    szX = maski.shape[-1]/mpl.rcParams['figure.dpi']*f\n",
    "    szY = maski.shape[-2]/mpl.rcParams['figure.dpi']*f\n",
    "    fig, ax = omnipose.plot.figure(figsize=(szY,szX*4), facecolor=[0]*4, frameon=False)\n",
    "    \n",
    "    plot.show_segmentation(fig, omnipose.utils.normalize99(imgs[i]), \n",
    "                           maski, flowi, bdi, channels=None, omni=True,\n",
    "                           interpolation=None)\n",
    "\n",
    "    plt.tight_layout()\n",
    "    plt.show()"
   ]
  },
  {
   "cell_type": "code",
   "execution_count": null,
   "id": "10",
   "metadata": {},
   "outputs": [],
   "source": []
  }
 ],
 "metadata": {
  "kernelspec": {
   "display_name": "Python 3 (ipykernel)",
   "language": "python",
   "name": "python3"
  },
  "language_info": {
   "codemirror_mode": {
    "name": "ipython",
    "version": 3
   },
   "file_extension": ".py",
   "mimetype": "text/x-python",
   "name": "python",
   "nbconvert_exporter": "python",
   "pygments_lexer": "ipython3",
   "version": "3.11.9"
  }
 },
 "nbformat": 4,
 "nbformat_minor": 5
}
